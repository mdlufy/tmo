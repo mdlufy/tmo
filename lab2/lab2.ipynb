{
 "cells": [
  {
   "cell_type": "markdown",
   "id": "58a87668-604d-45d8-8cf6-3ef7b5daba54",
   "metadata": {
    "tags": []
   },
   "source": [
    "# Обработка пропусков в данных, кодирование категориальных признаков, масштабирование данных\n"
   ]
  },
  {
   "cell_type": "code",
   "execution_count": null,
   "id": "662c436c-417b-426e-a30f-66a71bc282d3",
   "metadata": {
    "tags": []
   },
   "outputs": [],
   "source": [
    "import numpy as np\n",
    "import pandas as pd\n",
    "import seaborn as sns\n",
    "\n",
    "import matplotlib.pyplot as plt\n",
    "\n",
    "%matplotlib inline \n",
    "\n",
    "sns.set(style=\"ticks\")"
   ]
  },
  {
   "cell_type": "code",
   "execution_count": null,
   "id": "e480678a-f94e-4d06-8730-a4bf555f866b",
   "metadata": {
    "tags": []
   },
   "outputs": [],
   "source": [
    "data = pd.read_csv('data/laptops_train.csv', sep=\",\")"
   ]
  },
  {
   "cell_type": "code",
   "execution_count": null,
   "id": "88e7fff2-4e97-4d47-8171-3003b1fcf74e",
   "metadata": {
    "tags": []
   },
   "outputs": [],
   "source": [
    "data.shape"
   ]
  },
  {
   "cell_type": "code",
   "execution_count": null,
   "id": "2d6c4403-a353-410d-85ce-1fbe2e66602d",
   "metadata": {
    "tags": []
   },
   "outputs": [],
   "source": [
    "data.dtypes"
   ]
  },
  {
   "cell_type": "code",
   "execution_count": null,
   "id": "eb56c5fa-c60e-4561-956d-2a1440b0bf55",
   "metadata": {
    "tags": []
   },
   "outputs": [],
   "source": [
    "data.isnull().sum()"
   ]
  },
  {
   "cell_type": "code",
   "execution_count": null,
   "id": "c0b22183-e69d-46b1-bd62-0d4328317c4d",
   "metadata": {
    "tags": []
   },
   "outputs": [],
   "source": [
    "data.head()"
   ]
  },
  {
   "cell_type": "code",
   "execution_count": null,
   "id": "fc945ba7-24cf-4680-ac7e-03191f36c488",
   "metadata": {
    "tags": []
   },
   "outputs": [],
   "source": [
    "total_count = data.shape[0]\n",
    "\n",
    "print('Всего строк: {}'.format(total_count))"
   ]
  },
  {
   "cell_type": "markdown",
   "id": "4401f9d3-6a1f-47a4-9940-04936d9c62c4",
   "metadata": {},
   "source": [
    "## Обработка пропусков в данных"
   ]
  },
  {
   "cell_type": "code",
   "execution_count": null,
   "id": "b48d1e4e-3408-4d9e-8eec-8509b9719db8",
   "metadata": {
    "tags": []
   },
   "outputs": [],
   "source": [
    "dataWithoutNull = data.dropna(axis=1, how='any')\n",
    "\n",
    "(data.shape, dataWithoutNull.shape)"
   ]
  },
  {
   "cell_type": "code",
   "execution_count": null,
   "id": "4ebc15c0-b1a6-4d4b-934e-fb7742bff103",
   "metadata": {
    "tags": []
   },
   "outputs": [],
   "source": [
    "data = dataWithoutNull.dropna(axis=0, how='any')\n",
    "\n",
    "(data.shape)"
   ]
  },
  {
   "cell_type": "code",
   "execution_count": null,
   "id": "ecb98492-8e46-43fb-ac05-5801410a4649",
   "metadata": {
    "tags": []
   },
   "outputs": [],
   "source": [
    "data.head()"
   ]
  },
  {
   "cell_type": "code",
   "execution_count": null,
   "id": "86cfa12c-e5e2-47be-91eb-fcd6fb58770b",
   "metadata": {
    "tags": []
   },
   "outputs": [],
   "source": [
    "num_cols = []\n",
    "\n",
    "for col in data.columns:\n",
    "    temp_null_count = data[data[col].isnull()].shape[0]\n",
    "    \n",
    "    dt = str(data[col].dtype)\n",
    "    \n",
    "    if temp_null_count > 0:\n",
    "        num_cols.append(col)\n",
    "        \n",
    "        temp_perc = round((temp_null_count / total_count) * 100.0, 2)\n",
    "        \n",
    "        print('Колонка {}. Тип данных {}. Количество пустых значений {}, {}%.'.format(col, dt, temp_null_count, temp_perc))\n",
    "    else:\n",
    "        print('Колонка {}. Тип данных {}. Количество пустых значений {}, {}%.'.format(col, dt, temp_null_count, 0))"
   ]
  },
  {
   "cell_type": "code",
   "execution_count": null,
   "id": "d12c5940-3551-4377-b765-33206505460c",
   "metadata": {
    "tags": []
   },
   "outputs": [],
   "source": [
    "cat_cols = []\n",
    "\n",
    "for col in data.columns:\n",
    "    temp_null_count = data[data[col].isnull()].shape[0]\n",
    "    \n",
    "    dt = str(data[col].dtype)\n",
    "    \n",
    "    if temp_null_count > 0 and (dt=='object'):\n",
    "        cat_cols.append(col)\n",
    "        \n",
    "        temp_perc = round((temp_null_count / total_count) * 100.0, 2)\n",
    "        \n",
    "        print('Колонка {}. Тип данных {}. Количество пустых значений {}, {}%.'.format(col, dt, temp_null_count, temp_perc))\n",
    "    else:\n",
    "        print('Колонка {}. Тип данных {}. Количество пустых значений {}, {}%.'.format(col, dt, temp_null_count, 0))"
   ]
  },
  {
   "cell_type": "markdown",
   "id": "10eddde7-6a77-4d4c-8e7d-083ef6aef01e",
   "metadata": {},
   "source": [
    "## Преобразование категориальных признаков в числовые"
   ]
  },
  {
   "cell_type": "code",
   "execution_count": null,
   "id": "50bc4b41-bd56-4ddf-a189-6f21c6f5246d",
   "metadata": {
    "tags": []
   },
   "outputs": [],
   "source": [
    "cat_enc = pd.DataFrame({'c1':data.T[0]})\n",
    "\n",
    "cat_enc"
   ]
  },
  {
   "cell_type": "markdown",
   "id": "25c79862-f9bb-4978-9e4a-848a54e34d87",
   "metadata": {},
   "source": [
    "## Кодирование категорий целочисленными значениями"
   ]
  },
  {
   "cell_type": "code",
   "execution_count": null,
   "id": "0607bbbc-18ba-4312-ba90-5781fe4bb4f3",
   "metadata": {
    "tags": []
   },
   "outputs": [],
   "source": [
    "from sklearn.preprocessing import LabelEncoder"
   ]
  },
  {
   "cell_type": "code",
   "execution_count": null,
   "id": "29823abf-c9ac-42f4-914c-0166a98b6aa5",
   "metadata": {},
   "outputs": [],
   "source": [
    "cat_enc['c1'].unique()"
   ]
  },
  {
   "cell_type": "code",
   "execution_count": null,
   "id": "34eb7ba9-2b76-4b19-9564-483f4e28d225",
   "metadata": {},
   "outputs": [],
   "source": [
    "le = LabelEncoder()\n",
    "\n",
    "cat_enc_le = le.fit_transform(cat_enc['c1'])"
   ]
  },
  {
   "cell_type": "code",
   "execution_count": null,
   "id": "0ae1a39d-3719-4153-8562-d476c48501ea",
   "metadata": {},
   "outputs": [],
   "source": [
    "# Наименования категорий в соответствии с порядковыми номерами\n",
    "\n",
    "# Свойство называется classes, потому что предполагается что мы решаем \n",
    "# задачу классификации и каждое значение категории соответствует \n",
    "# какому-либо классу целевого признака\n",
    "\n",
    "le.classes_"
   ]
  },
  {
   "cell_type": "code",
   "execution_count": null,
   "id": "b1e651a7-7adb-4157-b941-f02660112f2c",
   "metadata": {},
   "outputs": [],
   "source": [
    "cat_enc_le"
   ]
  },
  {
   "cell_type": "code",
   "execution_count": null,
   "id": "ef80c2b7-1808-43c5-bec6-08b022ac9bbc",
   "metadata": {},
   "outputs": [],
   "source": [
    "np.unique(cat_enc_le)"
   ]
  },
  {
   "cell_type": "code",
   "execution_count": null,
   "id": "cd51a5b7-e52e-4779-94f9-8c71a64207d9",
   "metadata": {},
   "outputs": [],
   "source": [
    "# В этом примере видно, что перед кодированием \n",
    "# уникальные значения признака сортируются в лексикографиеском порядке\n",
    "\n",
    "le.inverse_transform([0, 1, 2, 3])"
   ]
  },
  {
   "cell_type": "code",
   "execution_count": null,
   "id": "24e78b88-83b4-4f26-bba4-beb1ae69d5c7",
   "metadata": {},
   "outputs": [],
   "source": []
  }
 ],
 "metadata": {
  "kernelspec": {
   "display_name": "Python 3 (ipykernel)",
   "language": "python",
   "name": "python3"
  },
  "language_info": {
   "codemirror_mode": {
    "name": "ipython",
    "version": 3
   },
   "file_extension": ".py",
   "mimetype": "text/x-python",
   "name": "python",
   "nbconvert_exporter": "python",
   "pygments_lexer": "ipython3",
   "version": "3.10.9"
  }
 },
 "nbformat": 4,
 "nbformat_minor": 5
}
