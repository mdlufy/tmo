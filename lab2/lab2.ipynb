{
 "cells": [
  {
   "cell_type": "markdown",
   "id": "58a87668-604d-45d8-8cf6-3ef7b5daba54",
   "metadata": {
    "tags": []
   },
   "source": [
    "# Обработка пропусков в данных, кодирование категориальных признаков, масштабирование данных\n"
   ]
  },
  {
   "cell_type": "code",
   "execution_count": 25,
   "id": "662c436c-417b-426e-a30f-66a71bc282d3",
   "metadata": {
    "tags": []
   },
   "outputs": [],
   "source": [
    "import numpy as np\n",
    "import pandas as pd\n",
    "import seaborn as sns\n",
    "\n",
    "import matplotlib.pyplot as plt\n",
    "\n",
    "%matplotlib inline \n",
    "\n",
    "sns.set(style=\"ticks\")"
   ]
  },
  {
   "cell_type": "code",
   "execution_count": 26,
   "id": "e480678a-f94e-4d06-8730-a4bf555f866b",
   "metadata": {
    "tags": []
   },
   "outputs": [],
   "source": [
    "data = pd.read_csv('data/laptops_train.csv', sep=\",\")"
   ]
  },
  {
   "cell_type": "code",
   "execution_count": 27,
   "id": "88e7fff2-4e97-4d47-8171-3003b1fcf74e",
   "metadata": {
    "tags": []
   },
   "outputs": [
    {
     "data": {
      "text/plain": [
       "(977, 13)"
      ]
     },
     "execution_count": 27,
     "metadata": {},
     "output_type": "execute_result"
    }
   ],
   "source": [
    "data.shape"
   ]
  },
  {
   "cell_type": "code",
   "execution_count": 28,
   "id": "2d6c4403-a353-410d-85ce-1fbe2e66602d",
   "metadata": {
    "tags": []
   },
   "outputs": [
    {
     "data": {
      "text/plain": [
       "Manufacturer                 object\n",
       "Model Name                   object\n",
       "Category                     object\n",
       "Screen Size                  object\n",
       "Screen                       object\n",
       "CPU                          object\n",
       "RAM                          object\n",
       " Storage                     object\n",
       "GPU                          object\n",
       "Operating System             object\n",
       "Operating System Version     object\n",
       "Weight                       object\n",
       "Price                       float64\n",
       "dtype: object"
      ]
     },
     "execution_count": 28,
     "metadata": {},
     "output_type": "execute_result"
    }
   ],
   "source": [
    "data.dtypes"
   ]
  },
  {
   "cell_type": "code",
   "execution_count": 29,
   "id": "eb56c5fa-c60e-4561-956d-2a1440b0bf55",
   "metadata": {
    "tags": []
   },
   "outputs": [
    {
     "data": {
      "text/plain": [
       "Manufacturer                  0\n",
       "Model Name                    0\n",
       "Category                      0\n",
       "Screen Size                   0\n",
       "Screen                        0\n",
       "CPU                           0\n",
       "RAM                           0\n",
       " Storage                      0\n",
       "GPU                           0\n",
       "Operating System              0\n",
       "Operating System Version    136\n",
       "Weight                        0\n",
       "Price                         0\n",
       "dtype: int64"
      ]
     },
     "execution_count": 29,
     "metadata": {},
     "output_type": "execute_result"
    }
   ],
   "source": [
    "data.isnull().sum()"
   ]
  },
  {
   "cell_type": "code",
   "execution_count": 30,
   "id": "c0b22183-e69d-46b1-bd62-0d4328317c4d",
   "metadata": {
    "tags": []
   },
   "outputs": [
    {
     "data": {
      "text/html": [
       "<div>\n",
       "<style scoped>\n",
       "    .dataframe tbody tr th:only-of-type {\n",
       "        vertical-align: middle;\n",
       "    }\n",
       "\n",
       "    .dataframe tbody tr th {\n",
       "        vertical-align: top;\n",
       "    }\n",
       "\n",
       "    .dataframe thead th {\n",
       "        text-align: right;\n",
       "    }\n",
       "</style>\n",
       "<table border=\"1\" class=\"dataframe\">\n",
       "  <thead>\n",
       "    <tr style=\"text-align: right;\">\n",
       "      <th></th>\n",
       "      <th>Manufacturer</th>\n",
       "      <th>Model Name</th>\n",
       "      <th>Category</th>\n",
       "      <th>Screen Size</th>\n",
       "      <th>Screen</th>\n",
       "      <th>CPU</th>\n",
       "      <th>RAM</th>\n",
       "      <th>Storage</th>\n",
       "      <th>GPU</th>\n",
       "      <th>Operating System</th>\n",
       "      <th>Operating System Version</th>\n",
       "      <th>Weight</th>\n",
       "      <th>Price</th>\n",
       "    </tr>\n",
       "  </thead>\n",
       "  <tbody>\n",
       "    <tr>\n",
       "      <th>0</th>\n",
       "      <td>Apple</td>\n",
       "      <td>MacBook Pro</td>\n",
       "      <td>Ultrabook</td>\n",
       "      <td>13.3\"</td>\n",
       "      <td>IPS Panel Retina Display 2560x1600</td>\n",
       "      <td>Intel Core i5 2.3GHz</td>\n",
       "      <td>8GB</td>\n",
       "      <td>128GB SSD</td>\n",
       "      <td>Intel Iris Plus Graphics 640</td>\n",
       "      <td>macOS</td>\n",
       "      <td>NaN</td>\n",
       "      <td>1.37kg</td>\n",
       "      <td>11912523.48</td>\n",
       "    </tr>\n",
       "    <tr>\n",
       "      <th>1</th>\n",
       "      <td>Apple</td>\n",
       "      <td>Macbook Air</td>\n",
       "      <td>Ultrabook</td>\n",
       "      <td>13.3\"</td>\n",
       "      <td>1440x900</td>\n",
       "      <td>Intel Core i5 1.8GHz</td>\n",
       "      <td>8GB</td>\n",
       "      <td>128GB Flash Storage</td>\n",
       "      <td>Intel HD Graphics 6000</td>\n",
       "      <td>macOS</td>\n",
       "      <td>NaN</td>\n",
       "      <td>1.34kg</td>\n",
       "      <td>7993374.48</td>\n",
       "    </tr>\n",
       "    <tr>\n",
       "      <th>2</th>\n",
       "      <td>HP</td>\n",
       "      <td>250 G6</td>\n",
       "      <td>Notebook</td>\n",
       "      <td>15.6\"</td>\n",
       "      <td>Full HD 1920x1080</td>\n",
       "      <td>Intel Core i5 7200U 2.5GHz</td>\n",
       "      <td>8GB</td>\n",
       "      <td>256GB SSD</td>\n",
       "      <td>Intel HD Graphics 620</td>\n",
       "      <td>No OS</td>\n",
       "      <td>NaN</td>\n",
       "      <td>1.86kg</td>\n",
       "      <td>5112900.00</td>\n",
       "    </tr>\n",
       "    <tr>\n",
       "      <th>3</th>\n",
       "      <td>Apple</td>\n",
       "      <td>MacBook Pro</td>\n",
       "      <td>Ultrabook</td>\n",
       "      <td>15.4\"</td>\n",
       "      <td>IPS Panel Retina Display 2880x1800</td>\n",
       "      <td>Intel Core i7 2.7GHz</td>\n",
       "      <td>16GB</td>\n",
       "      <td>512GB SSD</td>\n",
       "      <td>AMD Radeon Pro 455</td>\n",
       "      <td>macOS</td>\n",
       "      <td>NaN</td>\n",
       "      <td>1.83kg</td>\n",
       "      <td>22563005.40</td>\n",
       "    </tr>\n",
       "    <tr>\n",
       "      <th>4</th>\n",
       "      <td>Apple</td>\n",
       "      <td>MacBook Pro</td>\n",
       "      <td>Ultrabook</td>\n",
       "      <td>13.3\"</td>\n",
       "      <td>IPS Panel Retina Display 2560x1600</td>\n",
       "      <td>Intel Core i5 3.1GHz</td>\n",
       "      <td>8GB</td>\n",
       "      <td>256GB SSD</td>\n",
       "      <td>Intel Iris Plus Graphics 650</td>\n",
       "      <td>macOS</td>\n",
       "      <td>NaN</td>\n",
       "      <td>1.37kg</td>\n",
       "      <td>16037611.20</td>\n",
       "    </tr>\n",
       "  </tbody>\n",
       "</table>\n",
       "</div>"
      ],
      "text/plain": [
       "  Manufacturer   Model Name   Category Screen Size  \\\n",
       "0        Apple  MacBook Pro  Ultrabook       13.3\"   \n",
       "1        Apple  Macbook Air  Ultrabook       13.3\"   \n",
       "2           HP       250 G6   Notebook       15.6\"   \n",
       "3        Apple  MacBook Pro  Ultrabook       15.4\"   \n",
       "4        Apple  MacBook Pro  Ultrabook       13.3\"   \n",
       "\n",
       "                               Screen                         CPU   RAM  \\\n",
       "0  IPS Panel Retina Display 2560x1600        Intel Core i5 2.3GHz   8GB   \n",
       "1                            1440x900        Intel Core i5 1.8GHz   8GB   \n",
       "2                   Full HD 1920x1080  Intel Core i5 7200U 2.5GHz   8GB   \n",
       "3  IPS Panel Retina Display 2880x1800        Intel Core i7 2.7GHz  16GB   \n",
       "4  IPS Panel Retina Display 2560x1600        Intel Core i5 3.1GHz   8GB   \n",
       "\n",
       "               Storage                           GPU Operating System  \\\n",
       "0            128GB SSD  Intel Iris Plus Graphics 640            macOS   \n",
       "1  128GB Flash Storage        Intel HD Graphics 6000            macOS   \n",
       "2            256GB SSD         Intel HD Graphics 620            No OS   \n",
       "3            512GB SSD            AMD Radeon Pro 455            macOS   \n",
       "4            256GB SSD  Intel Iris Plus Graphics 650            macOS   \n",
       "\n",
       "  Operating System Version  Weight        Price  \n",
       "0                      NaN  1.37kg  11912523.48  \n",
       "1                      NaN  1.34kg   7993374.48  \n",
       "2                      NaN  1.86kg   5112900.00  \n",
       "3                      NaN  1.83kg  22563005.40  \n",
       "4                      NaN  1.37kg  16037611.20  "
      ]
     },
     "execution_count": 30,
     "metadata": {},
     "output_type": "execute_result"
    }
   ],
   "source": [
    "data.head()"
   ]
  },
  {
   "cell_type": "code",
   "execution_count": 31,
   "id": "fc945ba7-24cf-4680-ac7e-03191f36c488",
   "metadata": {
    "tags": []
   },
   "outputs": [
    {
     "name": "stdout",
     "output_type": "stream",
     "text": [
      "Всего строк: 977\n"
     ]
    }
   ],
   "source": [
    "total_count = data.shape[0]\n",
    "\n",
    "print('Всего строк: {}'.format(total_count))"
   ]
  },
  {
   "cell_type": "markdown",
   "id": "4401f9d3-6a1f-47a4-9940-04936d9c62c4",
   "metadata": {},
   "source": [
    "## Обработка пропусков в данных"
   ]
  },
  {
   "cell_type": "code",
   "execution_count": 32,
   "id": "b48d1e4e-3408-4d9e-8eec-8509b9719db8",
   "metadata": {
    "tags": []
   },
   "outputs": [
    {
     "data": {
      "text/plain": [
       "((977, 13), (977, 12))"
      ]
     },
     "execution_count": 32,
     "metadata": {},
     "output_type": "execute_result"
    }
   ],
   "source": [
    "dataWithoutNull = data.dropna(axis=1, how='any')\n",
    "\n",
    "(data.shape, dataWithoutNull.shape)"
   ]
  },
  {
   "cell_type": "code",
   "execution_count": 9,
   "id": "4ebc15c0-b1a6-4d4b-934e-fb7742bff103",
   "metadata": {
    "tags": []
   },
   "outputs": [
    {
     "data": {
      "text/plain": [
       "(977, 12)"
      ]
     },
     "execution_count": 9,
     "metadata": {},
     "output_type": "execute_result"
    }
   ],
   "source": [
    "data = dataWithoutNull.dropna(axis=0, how='any')\n",
    "\n",
    "(data.shape)"
   ]
  },
  {
   "cell_type": "code",
   "execution_count": 10,
   "id": "ecb98492-8e46-43fb-ac05-5801410a4649",
   "metadata": {
    "tags": []
   },
   "outputs": [
    {
     "data": {
      "text/html": [
       "<div>\n",
       "<style scoped>\n",
       "    .dataframe tbody tr th:only-of-type {\n",
       "        vertical-align: middle;\n",
       "    }\n",
       "\n",
       "    .dataframe tbody tr th {\n",
       "        vertical-align: top;\n",
       "    }\n",
       "\n",
       "    .dataframe thead th {\n",
       "        text-align: right;\n",
       "    }\n",
       "</style>\n",
       "<table border=\"1\" class=\"dataframe\">\n",
       "  <thead>\n",
       "    <tr style=\"text-align: right;\">\n",
       "      <th></th>\n",
       "      <th>Manufacturer</th>\n",
       "      <th>Model Name</th>\n",
       "      <th>Category</th>\n",
       "      <th>Screen Size</th>\n",
       "      <th>Screen</th>\n",
       "      <th>CPU</th>\n",
       "      <th>RAM</th>\n",
       "      <th>Storage</th>\n",
       "      <th>GPU</th>\n",
       "      <th>Operating System</th>\n",
       "      <th>Weight</th>\n",
       "      <th>Price</th>\n",
       "    </tr>\n",
       "  </thead>\n",
       "  <tbody>\n",
       "    <tr>\n",
       "      <th>0</th>\n",
       "      <td>Apple</td>\n",
       "      <td>MacBook Pro</td>\n",
       "      <td>Ultrabook</td>\n",
       "      <td>13.3\"</td>\n",
       "      <td>IPS Panel Retina Display 2560x1600</td>\n",
       "      <td>Intel Core i5 2.3GHz</td>\n",
       "      <td>8GB</td>\n",
       "      <td>128GB SSD</td>\n",
       "      <td>Intel Iris Plus Graphics 640</td>\n",
       "      <td>macOS</td>\n",
       "      <td>1.37kg</td>\n",
       "      <td>11912523.48</td>\n",
       "    </tr>\n",
       "    <tr>\n",
       "      <th>1</th>\n",
       "      <td>Apple</td>\n",
       "      <td>Macbook Air</td>\n",
       "      <td>Ultrabook</td>\n",
       "      <td>13.3\"</td>\n",
       "      <td>1440x900</td>\n",
       "      <td>Intel Core i5 1.8GHz</td>\n",
       "      <td>8GB</td>\n",
       "      <td>128GB Flash Storage</td>\n",
       "      <td>Intel HD Graphics 6000</td>\n",
       "      <td>macOS</td>\n",
       "      <td>1.34kg</td>\n",
       "      <td>7993374.48</td>\n",
       "    </tr>\n",
       "    <tr>\n",
       "      <th>2</th>\n",
       "      <td>HP</td>\n",
       "      <td>250 G6</td>\n",
       "      <td>Notebook</td>\n",
       "      <td>15.6\"</td>\n",
       "      <td>Full HD 1920x1080</td>\n",
       "      <td>Intel Core i5 7200U 2.5GHz</td>\n",
       "      <td>8GB</td>\n",
       "      <td>256GB SSD</td>\n",
       "      <td>Intel HD Graphics 620</td>\n",
       "      <td>No OS</td>\n",
       "      <td>1.86kg</td>\n",
       "      <td>5112900.00</td>\n",
       "    </tr>\n",
       "    <tr>\n",
       "      <th>3</th>\n",
       "      <td>Apple</td>\n",
       "      <td>MacBook Pro</td>\n",
       "      <td>Ultrabook</td>\n",
       "      <td>15.4\"</td>\n",
       "      <td>IPS Panel Retina Display 2880x1800</td>\n",
       "      <td>Intel Core i7 2.7GHz</td>\n",
       "      <td>16GB</td>\n",
       "      <td>512GB SSD</td>\n",
       "      <td>AMD Radeon Pro 455</td>\n",
       "      <td>macOS</td>\n",
       "      <td>1.83kg</td>\n",
       "      <td>22563005.40</td>\n",
       "    </tr>\n",
       "    <tr>\n",
       "      <th>4</th>\n",
       "      <td>Apple</td>\n",
       "      <td>MacBook Pro</td>\n",
       "      <td>Ultrabook</td>\n",
       "      <td>13.3\"</td>\n",
       "      <td>IPS Panel Retina Display 2560x1600</td>\n",
       "      <td>Intel Core i5 3.1GHz</td>\n",
       "      <td>8GB</td>\n",
       "      <td>256GB SSD</td>\n",
       "      <td>Intel Iris Plus Graphics 650</td>\n",
       "      <td>macOS</td>\n",
       "      <td>1.37kg</td>\n",
       "      <td>16037611.20</td>\n",
       "    </tr>\n",
       "  </tbody>\n",
       "</table>\n",
       "</div>"
      ],
      "text/plain": [
       "  Manufacturer   Model Name   Category Screen Size  \\\n",
       "0        Apple  MacBook Pro  Ultrabook       13.3\"   \n",
       "1        Apple  Macbook Air  Ultrabook       13.3\"   \n",
       "2           HP       250 G6   Notebook       15.6\"   \n",
       "3        Apple  MacBook Pro  Ultrabook       15.4\"   \n",
       "4        Apple  MacBook Pro  Ultrabook       13.3\"   \n",
       "\n",
       "                               Screen                         CPU   RAM  \\\n",
       "0  IPS Panel Retina Display 2560x1600        Intel Core i5 2.3GHz   8GB   \n",
       "1                            1440x900        Intel Core i5 1.8GHz   8GB   \n",
       "2                   Full HD 1920x1080  Intel Core i5 7200U 2.5GHz   8GB   \n",
       "3  IPS Panel Retina Display 2880x1800        Intel Core i7 2.7GHz  16GB   \n",
       "4  IPS Panel Retina Display 2560x1600        Intel Core i5 3.1GHz   8GB   \n",
       "\n",
       "               Storage                           GPU Operating System  Weight  \\\n",
       "0            128GB SSD  Intel Iris Plus Graphics 640            macOS  1.37kg   \n",
       "1  128GB Flash Storage        Intel HD Graphics 6000            macOS  1.34kg   \n",
       "2            256GB SSD         Intel HD Graphics 620            No OS  1.86kg   \n",
       "3            512GB SSD            AMD Radeon Pro 455            macOS  1.83kg   \n",
       "4            256GB SSD  Intel Iris Plus Graphics 650            macOS  1.37kg   \n",
       "\n",
       "         Price  \n",
       "0  11912523.48  \n",
       "1   7993374.48  \n",
       "2   5112900.00  \n",
       "3  22563005.40  \n",
       "4  16037611.20  "
      ]
     },
     "execution_count": 10,
     "metadata": {},
     "output_type": "execute_result"
    }
   ],
   "source": [
    "data.head()"
   ]
  },
  {
   "cell_type": "code",
   "execution_count": 11,
   "id": "86cfa12c-e5e2-47be-91eb-fcd6fb58770b",
   "metadata": {
    "tags": []
   },
   "outputs": [
    {
     "name": "stdout",
     "output_type": "stream",
     "text": [
      "Колонка Manufacturer. Тип данных object. Количество пустых значений 0, 0%.\n",
      "Колонка Model Name. Тип данных object. Количество пустых значений 0, 0%.\n",
      "Колонка Category. Тип данных object. Количество пустых значений 0, 0%.\n",
      "Колонка Screen Size. Тип данных object. Количество пустых значений 0, 0%.\n",
      "Колонка Screen. Тип данных object. Количество пустых значений 0, 0%.\n",
      "Колонка CPU. Тип данных object. Количество пустых значений 0, 0%.\n",
      "Колонка RAM. Тип данных object. Количество пустых значений 0, 0%.\n",
      "Колонка  Storage. Тип данных object. Количество пустых значений 0, 0%.\n",
      "Колонка GPU. Тип данных object. Количество пустых значений 0, 0%.\n",
      "Колонка Operating System. Тип данных object. Количество пустых значений 0, 0%.\n",
      "Колонка Weight. Тип данных object. Количество пустых значений 0, 0%.\n",
      "Колонка Price. Тип данных float64. Количество пустых значений 0, 0%.\n"
     ]
    }
   ],
   "source": [
    "num_cols = []\n",
    "\n",
    "for col in data.columns:\n",
    "    temp_null_count = data[data[col].isnull()].shape[0]\n",
    "    \n",
    "    dt = str(data[col].dtype)\n",
    "    \n",
    "    if temp_null_count > 0:\n",
    "        num_cols.append(col)\n",
    "        \n",
    "        temp_perc = round((temp_null_count / total_count) * 100.0, 2)\n",
    "        \n",
    "        print('Колонка {}. Тип данных {}. Количество пустых значений {}, {}%.'.format(col, dt, temp_null_count, temp_perc))\n",
    "    else:\n",
    "        print('Колонка {}. Тип данных {}. Количество пустых значений {}, {}%.'.format(col, dt, temp_null_count, 0))"
   ]
  },
  {
   "cell_type": "code",
   "execution_count": 12,
   "id": "d12c5940-3551-4377-b765-33206505460c",
   "metadata": {
    "tags": []
   },
   "outputs": [
    {
     "name": "stdout",
     "output_type": "stream",
     "text": [
      "Колонка Manufacturer. Тип данных object. Количество пустых значений 0, 0%.\n",
      "Колонка Model Name. Тип данных object. Количество пустых значений 0, 0%.\n",
      "Колонка Category. Тип данных object. Количество пустых значений 0, 0%.\n",
      "Колонка Screen Size. Тип данных object. Количество пустых значений 0, 0%.\n",
      "Колонка Screen. Тип данных object. Количество пустых значений 0, 0%.\n",
      "Колонка CPU. Тип данных object. Количество пустых значений 0, 0%.\n",
      "Колонка RAM. Тип данных object. Количество пустых значений 0, 0%.\n",
      "Колонка  Storage. Тип данных object. Количество пустых значений 0, 0%.\n",
      "Колонка GPU. Тип данных object. Количество пустых значений 0, 0%.\n",
      "Колонка Operating System. Тип данных object. Количество пустых значений 0, 0%.\n",
      "Колонка Weight. Тип данных object. Количество пустых значений 0, 0%.\n",
      "Колонка Price. Тип данных float64. Количество пустых значений 0, 0%.\n"
     ]
    }
   ],
   "source": [
    "cat_cols = []\n",
    "\n",
    "for col in data.columns:\n",
    "    temp_null_count = data[data[col].isnull()].shape[0]\n",
    "    \n",
    "    dt = str(data[col].dtype)\n",
    "    \n",
    "    if temp_null_count > 0 and (dt == 'object'):\n",
    "        cat_cols.append(col)\n",
    "        \n",
    "        temp_perc = round((temp_null_count / total_count) * 100.0, 2)\n",
    "        \n",
    "        print('Колонка {}. Тип данных {}. Количество пустых значений {}, {}%.'.format(col, dt, temp_null_count, temp_perc))\n",
    "    else:\n",
    "        print('Колонка {}. Тип данных {}. Количество пустых значений {}, {}%.'.format(col, dt, temp_null_count, 0))"
   ]
  },
  {
   "cell_type": "markdown",
   "id": "10eddde7-6a77-4d4c-8e7d-083ef6aef01e",
   "metadata": {},
   "source": [
    "## Преобразование категориальных признаков в числовые"
   ]
  },
  {
   "cell_type": "code",
   "execution_count": 38,
   "id": "50bc4b41-bd56-4ddf-a189-6f21c6f5246d",
   "metadata": {
    "tags": []
   },
   "outputs": [],
   "source": [
    "cat_enc = pd.DataFrame({ 'c1': data.T[0] })\n",
    "\n",
    "cat_enc = cat_enc.astype(str)"
   ]
  },
  {
   "cell_type": "code",
   "execution_count": 39,
   "id": "f0402b5b-cb2a-4d6e-ba6d-1e947812af37",
   "metadata": {
    "tags": []
   },
   "outputs": [
    {
     "data": {
      "text/plain": [
       "array(['Apple', 'MacBook Pro', 'Ultrabook', '13.3\"',\n",
       "       'IPS Panel Retina Display 2560x1600', 'Intel Core i5 2.3GHz',\n",
       "       '8GB', '128GB SSD', 'Intel Iris Plus Graphics 640', 'macOS', 'nan',\n",
       "       '1.37kg', '11912523.48'], dtype=object)"
      ]
     },
     "execution_count": 39,
     "metadata": {},
     "output_type": "execute_result"
    }
   ],
   "source": [
    "cat_enc['c1'].unique()"
   ]
  },
  {
   "cell_type": "markdown",
   "id": "25c79862-f9bb-4978-9e4a-848a54e34d87",
   "metadata": {},
   "source": [
    "## Кодирование категориальных признаков"
   ]
  },
  {
   "cell_type": "code",
   "execution_count": 15,
   "id": "0607bbbc-18ba-4312-ba90-5781fe4bb4f3",
   "metadata": {
    "tags": []
   },
   "outputs": [],
   "source": [
    "from sklearn.preprocessing import LabelEncoder"
   ]
  },
  {
   "cell_type": "code",
   "execution_count": 35,
   "id": "34eb7ba9-2b76-4b19-9564-483f4e28d225",
   "metadata": {
    "tags": []
   },
   "outputs": [],
   "source": [
    "le = LabelEncoder()\n",
    "\n",
    "cat_enc_le = le.fit_transform(cat_enc['c1'])"
   ]
  },
  {
   "cell_type": "code",
   "execution_count": 36,
   "id": "0ae1a39d-3719-4153-8562-d476c48501ea",
   "metadata": {
    "tags": []
   },
   "outputs": [
    {
     "data": {
      "text/plain": [
       "array(['1.37kg', '11912523.48', '128GB SSD', '13.3\"', '8GB', 'Apple',\n",
       "       'IPS Panel Retina Display 2560x1600', 'Intel Core i5 2.3GHz',\n",
       "       'Intel Iris Plus Graphics 640', 'MacBook Pro', 'Ultrabook',\n",
       "       'macOS', 'nan'], dtype=object)"
      ]
     },
     "execution_count": 36,
     "metadata": {},
     "output_type": "execute_result"
    }
   ],
   "source": [
    "le.classes_"
   ]
  },
  {
   "cell_type": "code",
   "execution_count": 37,
   "id": "b1e651a7-7adb-4157-b941-f02660112f2c",
   "metadata": {
    "tags": []
   },
   "outputs": [
    {
     "data": {
      "text/plain": [
       "array([ 5,  9, 10,  3,  6,  7,  4,  2,  8, 11, 12,  0,  1])"
      ]
     },
     "execution_count": 37,
     "metadata": {},
     "output_type": "execute_result"
    }
   ],
   "source": [
    "cat_enc_le"
   ]
  },
  {
   "cell_type": "code",
   "execution_count": 19,
   "id": "ef80c2b7-1808-43c5-bec6-08b022ac9bbc",
   "metadata": {
    "tags": []
   },
   "outputs": [
    {
     "data": {
      "text/plain": [
       "array([ 0,  1,  2,  3,  4,  5,  6,  7,  8,  9, 10, 11])"
      ]
     },
     "execution_count": 19,
     "metadata": {},
     "output_type": "execute_result"
    }
   ],
   "source": [
    "np.unique(cat_enc_le)"
   ]
  },
  {
   "cell_type": "code",
   "execution_count": 20,
   "id": "cd51a5b7-e52e-4779-94f9-8c71a64207d9",
   "metadata": {
    "tags": []
   },
   "outputs": [
    {
     "data": {
      "text/plain": [
       "array(['1.37kg', '11912523.48', '128GB SSD', '13.3\"'], dtype=object)"
      ]
     },
     "execution_count": 20,
     "metadata": {},
     "output_type": "execute_result"
    }
   ],
   "source": [
    "# Перед кодированием уникальные значения признака сортируются в лексикографическом порядке\n",
    "\n",
    "le.inverse_transform([0, 1, 2, 3])"
   ]
  },
  {
   "cell_type": "markdown",
   "id": "e934466a-8a0c-41f5-87d1-65450c7eb7e5",
   "metadata": {},
   "source": [
    "## Масштабирование данных"
   ]
  },
  {
   "cell_type": "code",
   "execution_count": 21,
   "id": "a284363d-a8c5-492f-a1e0-18406debc322",
   "metadata": {
    "tags": []
   },
   "outputs": [],
   "source": [
    "from sklearn.preprocessing import MinMaxScaler, StandardScaler, Normalizer"
   ]
  },
  {
   "cell_type": "code",
   "execution_count": 22,
   "id": "ddc9f0a6-0f59-40f8-a1d7-da120e12df52",
   "metadata": {
    "tags": []
   },
   "outputs": [],
   "source": [
    "sc1 = MinMaxScaler()\n",
    "sc1_data = sc1.fit_transform(data[['Price']])"
   ]
  },
  {
   "cell_type": "code",
   "execution_count": 23,
   "id": "ae910072-2817-4099-920a-a94e90c8c752",
   "metadata": {
    "tags": []
   },
   "outputs": [
    {
     "data": {
      "image/png": "[encoded data removed]",
      "text/plain": [
       "<Figure size 640x480 with 1 Axes>"
      ]
     },
     "metadata": {},
     "output_type": "display_data"
    }
   ],
   "source": [
    "plt.hist(data['Price'], 50)\n",
    "plt.show()"
   ]
  },
  {
   "cell_type": "code",
   "execution_count": 24,
   "id": "a7a7e098-e901-44a7-8f58-ff024b2a26da",
   "metadata": {
    "tags": []
   },
   "outputs": [
    {
     "data": {
      "image/png": "[encoded data removed]",
      "text/plain": [
       "<Figure size 640x480 with 1 Axes>"
      ]
     },
     "metadata": {},
     "output_type": "display_data"
    }
   ],
   "source": [
    "plt.hist(sc1_data, 50)\n",
    "plt.show()"
   ]
  },
  {
   "cell_type": "code",
   "execution_count": null,
   "id": "32cf6df7-e7db-4e56-9269-435cc01104c9",
   "metadata": {},
   "outputs": [],
   "source": []
  },
  {
   "cell_type": "code",
   "execution_count": null,
   "id": "f5a17a70-ae1f-4d41-afa7-2f81aa5f0153",
   "metadata": {},
   "outputs": [],
   "source": []
  },
  {
   "cell_type": "code",
   "execution_count": null,
   "id": "0cd6ba13-0927-47f0-9bc9-0022d20e7b07",
   "metadata": {},
   "outputs": [],
   "source": []
  }
 ],
 "metadata": {
  "kernelspec": {
   "display_name": "Python 3 (ipykernel)",
   "language": "python",
   "name": "python3"
  },
  "language_info": {
   "codemirror_mode": {
    "name": "ipython",
    "version": 3
   },
   "file_extension": ".py",
   "mimetype": "text/x-python",
   "name": "python",
   "nbconvert_exporter": "python",
   "pygments_lexer": "ipython3",
   "version": "3.8.16"
  }
 },
 "nbformat": 4,
 "nbformat_minor": 5
}
