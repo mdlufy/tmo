{
 "cells": [
  {
   "cell_type": "code",
   "execution_count": 1,
   "id": "bd8c01ec",
   "metadata": {},
   "outputs": [
    {
     "name": "stdout",
     "output_type": "stream",
     "text": [
      "Requirement already satisfied: graphviz in ./opt/anaconda3/lib/python3.9/site-packages (0.20.1)\n",
      "Note: you may need to restart the kernel to use updated packages.\n"
     ]
    }
   ],
   "source": [
    "%pip install graphviz"
   ]
  },
  {
   "cell_type": "code",
   "execution_count": 2,
   "id": "cbc9ef60",
   "metadata": {},
   "outputs": [
    {
     "name": "stdout",
     "output_type": "stream",
     "text": [
      "Requirement already satisfied: pydotplus in ./opt/anaconda3/lib/python3.9/site-packages (2.0.2)\n",
      "Requirement already satisfied: pyparsing>=2.0.1 in ./opt/anaconda3/lib/python3.9/site-packages (from pydotplus) (3.0.9)\n",
      "Note: you may need to restart the kernel to use updated packages.\n"
     ]
    }
   ],
   "source": [
    "%pip install pydotplus"
   ]
  },
  {
   "cell_type": "markdown",
   "id": "d55bba85",
   "metadata": {},
   "source": [
    "## Спецификация \n",
    "- 'churn' - *факт оттока в текущем месяце (целевая переменная)*\n",
    "- 'gender' - пол\n",
    "- 'near_location' - проживание или работа в районе, где находится фитнес-центр\n",
    "- 'partner' - сотрудник компании-партёра клуба\n",
    "- 'promo_friends' - факт первоначальной записи в рамках акции \"приведи друга\"\n",
    "- 'phone' - наличие контактного телефона\n",
    "- 'age' - возраст\n",
    "- 'lifetime' - время с первого обращения в фитнесс-центр\n",
    "- 'contract_period' - длительность текущего действующего аобнемента (месяц, 3 месяца, 6 месяцев, 1 год)\n",
    "- 'month_to_end_contract' - срок до окончания текущего действующего абонемента (в месяцах)\n",
    "- 'group_visits' - факт посещения групповых занятий\n",
    "- 'avg_class_frequency_total' - средняя частота посещений в неделю за все время с начала действия абонемента\n",
    "- 'avg_class_frequency_current_month' - средняя частота посещений в неделю за предыдущий месяц\n",
    "- 'avg_additional_charges_total' - суммарная выручка от других услуг фитнес-центра: кафе, спорт-товары, косметический и массажный салон"
   ]
  },
  {
   "cell_type": "markdown",
   "id": "647d8059",
   "metadata": {},
   "source": [
    "## Предварительный анализ \n",
    "### Загрузим необходимые библиотеки "
   ]
  },
  {
   "cell_type": "code",
   "execution_count": 22,
   "id": "96283d7d",
   "metadata": {},
   "outputs": [],
   "source": [
    "from io import StringIO \n",
    "from IPython.display import Image\n",
    "import graphviz \n",
    "import pydotplus\n",
    "import numpy as np\n",
    "import pandas as pd\n",
    "from typing import Dict, Tuple\n",
    "from sklearn.datasets import load_iris, load_wine, load_boston\n",
    "from sklearn.tree import DecisionTreeClassifier, DecisionTreeRegressor, export_graphviz\n",
    "from sklearn.model_selection import train_test_split\n",
    "from sklearn.model_selection import GridSearchCV\n",
    "from sklearn.ensemble import RandomForestRegressor, GradientBoostingRegressor\n",
    "from sklearn.ensemble import RandomForestClassifier, GradientBoostingClassifier\n",
    "from sklearn.preprocessing import StandardScaler\n",
    "from sklearn.linear_model import LogisticRegression\n",
    "from sklearn.metrics import accuracy_score, precision_score, recall_score, f1_score\n",
    "from sklearn.metrics import mean_absolute_error\n",
    "from sklearn.metrics import median_absolute_error, r2_score\n",
    "from sklearn.svm import NuSVR\n",
    "from sklearn import tree\n",
    "import matplotlib.pyplot as plt\n",
    "%matplotlib inline \n",
    "from sklearn.datasets import make_classification\n",
    "from sklearn.tree import DecisionTreeClassifier\n",
    "from sklearn.ensemble import BaggingClassifier, RandomForestClassifier\n",
    "from sklearn.metrics import accuracy_score\n",
    "import matplotlib.pyplot as plt\n"
   ]
  },
  {
   "cell_type": "code",
   "execution_count": 4,
   "id": "372087f8",
   "metadata": {},
   "outputs": [],
   "source": [
    "df = pd.read_csv('gym.csv')"
   ]
  },
  {
   "cell_type": "markdown",
   "id": "2902a389",
   "metadata": {},
   "source": [
    "### Изучим полученные данные"
   ]
  },
  {
   "cell_type": "code",
   "execution_count": 6,
   "id": "5d7b6116",
   "metadata": {},
   "outputs": [
    {
     "name": "stdout",
     "output_type": "stream",
     "text": [
      "<class 'pandas.core.frame.DataFrame'>\n",
      "RangeIndex: 4000 entries, 0 to 3999\n",
      "Data columns (total 15 columns):\n",
      " #   Column                             Non-Null Count  Dtype  \n",
      "---  ------                             --------------  -----  \n",
      " 0   Unnamed: 0                         4000 non-null   int64  \n",
      " 1   gender                             4000 non-null   int64  \n",
      " 2   Near_Location                      4000 non-null   int64  \n",
      " 3   Partner                            4000 non-null   int64  \n",
      " 4   Promo_friends                      4000 non-null   int64  \n",
      " 5   Phone                              4000 non-null   int64  \n",
      " 6   Contract_period                    4000 non-null   int64  \n",
      " 7   Group_visits                       4000 non-null   int64  \n",
      " 8   Age                                4000 non-null   int64  \n",
      " 9   Avg_additional_charges_total       4000 non-null   float64\n",
      " 10  Month_to_end_contract              4000 non-null   float64\n",
      " 11  Lifetime                           4000 non-null   int64  \n",
      " 12  Avg_class_frequency_total          4000 non-null   float64\n",
      " 13  Avg_class_frequency_current_month  4000 non-null   float64\n",
      " 14  Churn                              4000 non-null   int64  \n",
      "dtypes: float64(4), int64(11)\n",
      "memory usage: 468.9 KB\n"
     ]
    }
   ],
   "source": [
    "df.info()"
   ]
  },
  {
   "cell_type": "code",
   "execution_count": 25,
   "id": "c18f328e",
   "metadata": {},
   "outputs": [],
   "source": [
    "X = df.drop(['Churn'], axis = 1)\n",
    "y = df['Churn']\n",
    "X_train, X_test, y_train, y_test = train_test_split(X, y, test_size=0.2, random_state=0)\n"
   ]
  },
  {
   "cell_type": "code",
   "execution_count": 26,
   "id": "348d6382",
   "metadata": {},
   "outputs": [
    {
     "name": "stdout",
     "output_type": "stream",
     "text": [
      "Accuracy: 0.91\n",
      "Accuracy: 0.92875\n",
      "Accuracy: 0.9275\n"
     ]
    }
   ],
   "source": [
    "#1. Модель бэггинга - случайный лес (Random Forest):\n",
    "\n",
    "from sklearn.ensemble import RandomForestClassifier\n",
    "\n",
    "# Создаем модель случайного леса с 100 деревьями\n",
    "rf_model = RandomForestClassifier(n_estimators=100)\n",
    "\n",
    "# Обучаем модель на тренировочных данных\n",
    "rf_model.fit(X_train, y_train)\n",
    "\n",
    "# Оцениваем качество модели на тестовых данных\n",
    "accuracy = rf_model.score(X_test, y_test)\n",
    "print(\"Accuracy:\", accuracy)\n",
    "\n",
    "#2. Модель бустинга - градиентный бустинг (Gradient Boosting):\n",
    "\n",
    "from sklearn.ensemble import GradientBoostingClassifier\n",
    "\n",
    "# Создаем модель градиентного бустинга с 100 деревьями и скоростью обучения 0.1\n",
    "gb_model = GradientBoostingClassifier(n_estimators=100, learning_rate=0.1)\n",
    "\n",
    "# Обучаем модель на тренировочных данных\n",
    "gb_model.fit(X_train, y_train)\n",
    "\n",
    "# Оцениваем качество модели на тестовых данных\n",
    "accuracy = gb_model.score(X_test, y_test)\n",
    "print(\"Accuracy:\", accuracy)\n",
    "\n",
    "\n",
    "#3. Модель стекинга - мета-классификатор на основе логистической регрессии:\n",
    "\n",
    "\n",
    "from sklearn.ensemble import RandomForestClassifier, GradientBoostingClassifier\n",
    "from sklearn.linear_model import LogisticRegression\n",
    "from sklearn.model_selection import cross_val_predict\n",
    "\n",
    "# Обучаем базовые модели на тренировочных данных\n",
    "rf_preds = cross_val_predict(rf_model, X_train, y_train, cv=5, method='predict_proba')\n",
    "gb_preds = cross_val_predict(gb_model, X_train, y_train, cv=5, method='predict_proba')\n",
    "\n",
    "# Создаем мета-классификатор на основе логистической регрессии\n",
    "meta_model = LogisticRegression()\n",
    "\n",
    "# Обучаем мета-классификатор на прогнозах базовых моделей\n",
    "meta_model.fit(np.hstack([rf_preds, gb_preds]), y_train)\n",
    "rf_model = RandomForestClassifier(n_estimators=100)\n",
    "rf_model.fit(X_train, y_train)\n",
    "rf_test_preds = rf_model.predict_proba(X_test)\n",
    "gb_model.fit(X_train, y_train)\n",
    "gb_test_preds = gb_model.predict_proba(X_test)\n",
    "\n",
    "# Оцениваем качество модели на тестовых данных\n",
    "\n",
    "meta_test_preds = meta_model.predict_proba(np.hstack([rf_test_preds, gb_test_preds]))\n",
    "accuracy = meta_model.score(np.hstack([rf_test_preds, gb_test_preds]), y_test)\n",
    "print(\"Accuracy:\", accuracy)\n"
   ]
  },
  {
   "cell_type": "code",
   "execution_count": 27,
   "id": "335bdd13",
   "metadata": {},
   "outputs": [
    {
     "name": "stdout",
     "output_type": "stream",
     "text": [
      "Accuracy of Bagging Classifier: 92.88%\n",
      "Accuracy of Random Forest Classifier: 90.62%\n"
     ]
    },
    {
     "data": {
      "image/png": "[encoded data removed]",
      "text/plain": [
       "<Figure size 640x480 with 1 Axes>"
      ]
     },
     "metadata": {},
     "output_type": "display_data"
    }
   ],
   "source": [
    "\n",
    "# Создаем три модели: решающее дерево, бэггинг и случайный лес\n",
    "\n",
    "bg = gb_model\n",
    "rf = rf_model\n",
    "\n",
    "# Обучаем модели на обучающей выборке\n",
    "\n",
    "bg.fit(X_train, y_train)\n",
    "rf.fit(X_train, y_train)\n",
    "\n",
    "# Получаем предсказания на тестовой выборке\n",
    "\n",
    "bg_pred = bg.predict(X_test)\n",
    "rf_pred = rf.predict(X_test)\n",
    "\n",
    "# Вычисляем точность предсказания каждой модели\n",
    "\n",
    "bg_acc = accuracy_score(y_test, bg_pred)\n",
    "rf_acc = accuracy_score(y_test, rf_pred)\n",
    "\n",
    "# Выводим точность каждой модели на экран\n",
    "\n",
    "print(\"Accuracy of Bagging Classifier: {:.2f}%\".format(bg_acc*100))\n",
    "print(\"Accuracy of Random Forest Classifier: {:.2f}%\".format(rf_acc*100))\n",
    "\n",
    "# Создаем график точности предсказания каждой модели\n",
    "models = [ 'Bagging', 'Random Forest']\n",
    "accuracies = [ bg_acc, rf_acc]\n",
    "plt.bar(models, accuracies)\n",
    "plt.ylabel('Accuracy')\n",
    "plt.title('Classifier Accuracy Comparison')\n",
    "plt.show()\n"
   ]
  },
  {
   "cell_type": "code",
   "execution_count": null,
   "id": "b806309e",
   "metadata": {},
   "outputs": [],
   "source": []
  }
 ],
 "metadata": {
  "kernelspec": {
   "display_name": "Python 3 (ipykernel)",
   "language": "python",
   "name": "python3"
  },
  "language_info": {
   "codemirror_mode": {
    "name": "ipython",
    "version": 3
   },
   "file_extension": ".py",
   "mimetype": "text/x-python",
   "name": "python",
   "nbconvert_exporter": "python",
   "pygments_lexer": "ipython3",
   "version": "3.9.13"
  }
 },
 "nbformat": 4,
 "nbformat_minor": 5
}
