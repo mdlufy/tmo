{
 "cells": [
  {
   "cell_type": "markdown",
   "id": "877a8974-d28f-47a4-8055-53e4f1e186e8",
   "metadata": {},
   "source": [
    "# Поиск аномалий в сетевом трафике"
   ]
  },
  {
   "cell_type": "markdown",
   "id": "124b0b78-c4a2-4c48-a4d4-70591d901702",
   "metadata": {},
   "source": [
    "### Подключение необходимых библиотек"
   ]
  },
  {
   "cell_type": "code",
   "execution_count": 716,
   "id": "af8609d0-9d0a-4ce6-a795-10d40561966c",
   "metadata": {
    "tags": []
   },
   "outputs": [],
   "source": [
    "import pandas as pd\n",
    "import matplotlib.pyplot as plt\n",
    "import numpy as np\n",
    "from sklearn.cluster import DBSCAN\n",
    "from sklearn.preprocessing import StandardScaler, LabelEncoder\n",
    "from sklearn.metrics import accuracy_score, precision_score, recall_score, f1_score, confusion_matrix, ConfusionMatrixDisplay\n",
    "from sklearn.ensemble import GradientBoostingClassifier\n",
    "from sklearn.model_selection import train_test_split"
   ]
  },
  {
   "cell_type": "markdown",
   "id": "7c70427f-1cb6-4811-83fa-cb56571f2f54",
   "metadata": {},
   "source": [
    "### Загрузка данных из файла в DataFrame"
   ]
  },
  {
   "cell_type": "code",
   "execution_count": 717,
   "id": "e7fb1ea8-8fdb-4425-8d9a-f1f55a6ebc62",
   "metadata": {
    "tags": []
   },
   "outputs": [],
   "source": [
    "\n",
    "df = pd.read_csv('1000_first_sessions.csv')"
   ]
  },
  {
   "cell_type": "code",
   "execution_count": 718,
   "id": "d2807343-34bf-4f72-b2f4-2aa0656839f3",
   "metadata": {
    "tags": []
   },
   "outputs": [
    {
     "data": {
      "text/html": [
       "<div>\n",
       "<style scoped>\n",
       "    .dataframe tbody tr th:only-of-type {\n",
       "        vertical-align: middle;\n",
       "    }\n",
       "\n",
       "    .dataframe tbody tr th {\n",
       "        vertical-align: top;\n",
       "    }\n",
       "\n",
       "    .dataframe thead th {\n",
       "        text-align: right;\n",
       "    }\n",
       "</style>\n",
       "<table border=\"1\" class=\"dataframe\">\n",
       "  <thead>\n",
       "    <tr style=\"text-align: right;\">\n",
       "      <th></th>\n",
       "      <th>session_id</th>\n",
       "      <th>date_time</th>\n",
       "      <th>source_ip</th>\n",
       "      <th>source_port</th>\n",
       "      <th>destination_ip</th>\n",
       "      <th>destination_port</th>\n",
       "      <th>bytes</th>\n",
       "      <th>packages_count</th>\n",
       "    </tr>\n",
       "  </thead>\n",
       "  <tbody>\n",
       "    <tr>\n",
       "      <th>0</th>\n",
       "      <td>6.421055e+13</td>\n",
       "      <td>2022-04-20 15:03:27.404</td>\n",
       "      <td>10.174.174.236</td>\n",
       "      <td>52263</td>\n",
       "      <td>10.253.252.11</td>\n",
       "      <td>9400</td>\n",
       "      <td>523</td>\n",
       "      <td>5</td>\n",
       "    </tr>\n",
       "    <tr>\n",
       "      <th>1</th>\n",
       "      <td>6.421055e+13</td>\n",
       "      <td>2022-04-20 15:03:27.405</td>\n",
       "      <td>10.253.252.11</td>\n",
       "      <td>9400</td>\n",
       "      <td>10.174.174.236</td>\n",
       "      <td>52263</td>\n",
       "      <td>1523</td>\n",
       "      <td>3</td>\n",
       "    </tr>\n",
       "    <tr>\n",
       "      <th>2</th>\n",
       "      <td>6.421055e+13</td>\n",
       "      <td>2022-04-20 15:05:07.482</td>\n",
       "      <td>10.174.174.236</td>\n",
       "      <td>52263</td>\n",
       "      <td>10.253.252.11</td>\n",
       "      <td>9400</td>\n",
       "      <td>40</td>\n",
       "      <td>2</td>\n",
       "    </tr>\n",
       "    <tr>\n",
       "      <th>3</th>\n",
       "      <td>6.421055e+13</td>\n",
       "      <td>2022-04-20 15:05:07.482</td>\n",
       "      <td>10.253.252.11</td>\n",
       "      <td>9400</td>\n",
       "      <td>10.174.174.236</td>\n",
       "      <td>52263</td>\n",
       "      <td>20</td>\n",
       "      <td>1</td>\n",
       "    </tr>\n",
       "    <tr>\n",
       "      <th>4</th>\n",
       "      <td>6.421055e+13</td>\n",
       "      <td>2022-04-20 15:05:27.734</td>\n",
       "      <td>10.174.174.236</td>\n",
       "      <td>52302</td>\n",
       "      <td>10.253.252.11</td>\n",
       "      <td>9400</td>\n",
       "      <td>503</td>\n",
       "      <td>4</td>\n",
       "    </tr>\n",
       "  </tbody>\n",
       "</table>\n",
       "</div>"
      ],
      "text/plain": [
       "     session_id                date_time       source_ip  source_port  \\\n",
       "0  6.421055e+13  2022-04-20 15:03:27.404  10.174.174.236        52263   \n",
       "1  6.421055e+13  2022-04-20 15:03:27.405   10.253.252.11         9400   \n",
       "2  6.421055e+13  2022-04-20 15:05:07.482  10.174.174.236        52263   \n",
       "3  6.421055e+13  2022-04-20 15:05:07.482   10.253.252.11         9400   \n",
       "4  6.421055e+13  2022-04-20 15:05:27.734  10.174.174.236        52302   \n",
       "\n",
       "   destination_ip  destination_port  bytes  packages_count  \n",
       "0   10.253.252.11              9400    523               5  \n",
       "1  10.174.174.236             52263   1523               3  \n",
       "2   10.253.252.11              9400     40               2  \n",
       "3  10.174.174.236             52263     20               1  \n",
       "4   10.253.252.11              9400    503               4  "
      ]
     },
     "execution_count": 718,
     "metadata": {},
     "output_type": "execute_result"
    }
   ],
   "source": [
    "df.head()"
   ]
  },
  {
   "cell_type": "code",
   "execution_count": 719,
   "id": "6ac0d2e2-8f03-4833-a7e4-e64665d3ff51",
   "metadata": {
    "tags": []
   },
   "outputs": [
    {
     "data": {
      "text/plain": [
       "session_id          float64\n",
       "date_time            object\n",
       "source_ip            object\n",
       "source_port           int64\n",
       "destination_ip       object\n",
       "destination_port      int64\n",
       "bytes                 int64\n",
       "packages_count        int64\n",
       "dtype: object"
      ]
     },
     "execution_count": 719,
     "metadata": {},
     "output_type": "execute_result"
    }
   ],
   "source": [
    "df.dtypes"
   ]
  },
  {
   "cell_type": "markdown",
   "id": "aecfb35c-d47b-4e27-98ca-d7f05d0e72e5",
   "metadata": {},
   "source": [
    "### Поиск пропусков"
   ]
  },
  {
   "cell_type": "code",
   "execution_count": 720,
   "id": "15398c33-0403-4fd0-9fec-138e3cfa391f",
   "metadata": {
    "tags": []
   },
   "outputs": [
    {
     "data": {
      "text/html": [
       "<div>\n",
       "<style scoped>\n",
       "    .dataframe tbody tr th:only-of-type {\n",
       "        vertical-align: middle;\n",
       "    }\n",
       "\n",
       "    .dataframe tbody tr th {\n",
       "        vertical-align: top;\n",
       "    }\n",
       "\n",
       "    .dataframe thead th {\n",
       "        text-align: right;\n",
       "    }\n",
       "</style>\n",
       "<table border=\"1\" class=\"dataframe\">\n",
       "  <thead>\n",
       "    <tr style=\"text-align: right;\">\n",
       "      <th></th>\n",
       "      <th>Total</th>\n",
       "      <th>Percent of missing data</th>\n",
       "    </tr>\n",
       "  </thead>\n",
       "  <tbody>\n",
       "    <tr>\n",
       "      <th>session_id</th>\n",
       "      <td>0</td>\n",
       "      <td>0.0</td>\n",
       "    </tr>\n",
       "    <tr>\n",
       "      <th>date_time</th>\n",
       "      <td>0</td>\n",
       "      <td>0.0</td>\n",
       "    </tr>\n",
       "    <tr>\n",
       "      <th>source_ip</th>\n",
       "      <td>0</td>\n",
       "      <td>0.0</td>\n",
       "    </tr>\n",
       "    <tr>\n",
       "      <th>source_port</th>\n",
       "      <td>0</td>\n",
       "      <td>0.0</td>\n",
       "    </tr>\n",
       "    <tr>\n",
       "      <th>destination_ip</th>\n",
       "      <td>0</td>\n",
       "      <td>0.0</td>\n",
       "    </tr>\n",
       "    <tr>\n",
       "      <th>destination_port</th>\n",
       "      <td>0</td>\n",
       "      <td>0.0</td>\n",
       "    </tr>\n",
       "    <tr>\n",
       "      <th>bytes</th>\n",
       "      <td>0</td>\n",
       "      <td>0.0</td>\n",
       "    </tr>\n",
       "    <tr>\n",
       "      <th>packages_count</th>\n",
       "      <td>0</td>\n",
       "      <td>0.0</td>\n",
       "    </tr>\n",
       "  </tbody>\n",
       "</table>\n",
       "</div>"
      ],
      "text/plain": [
       "                  Total  Percent of missing data\n",
       "session_id            0                      0.0\n",
       "date_time             0                      0.0\n",
       "source_ip             0                      0.0\n",
       "source_port           0                      0.0\n",
       "destination_ip        0                      0.0\n",
       "destination_port      0                      0.0\n",
       "bytes                 0                      0.0\n",
       "packages_count        0                      0.0"
      ]
     },
     "execution_count": 720,
     "metadata": {},
     "output_type": "execute_result"
    }
   ],
   "source": [
    "def draw_missing(df):\n",
    "    total = df.isnull().sum().sort_values(ascending=False)\n",
    "    percent = (df.isnull().sum()/df.isnull().count()).sort_values(ascending=False)*100\n",
    "    missing_data = pd.concat([total, percent], axis=1, keys=['Total', 'Percent of missing data'])\n",
    "    return missing_data\n",
    "\n",
    "draw_missing(df)"
   ]
  },
  {
   "cell_type": "markdown",
   "id": "4432c3fd-65e3-45fe-84bb-0cf99a127369",
   "metadata": {},
   "source": [
    "### Удаление столбцов, которые не будут использоваться"
   ]
  },
  {
   "cell_type": "code",
   "execution_count": 721,
   "id": "9bec1731-9b33-4341-9a44-4520da6f6975",
   "metadata": {
    "tags": []
   },
   "outputs": [],
   "source": [
    "df.drop(['session_id', 'date_time'], axis=1, inplace=True)"
   ]
  },
  {
   "cell_type": "markdown",
   "id": "f60cef56-5600-4b2c-bb8d-b92e449c95f1",
   "metadata": {},
   "source": [
    "### Нормализация данных"
   ]
  },
  {
   "cell_type": "code",
   "execution_count": 722,
   "id": "0a528262-bdc4-4515-baec-af491b68f880",
   "metadata": {
    "tags": []
   },
   "outputs": [],
   "source": [
    "df['source_ip'] = LabelEncoder().fit_transform(df['source_ip'])\n",
    "df['destination_ip'] = LabelEncoder().fit_transform(df['destination_ip'])\n",
    "df['source_port'] = LabelEncoder().fit_transform(df['source_port'])\n",
    "df['destination_port'] = LabelEncoder().fit_transform(df['destination_port'])"
   ]
  },
  {
   "cell_type": "markdown",
   "id": "94d5fa02",
   "metadata": {},
   "source": [
    "### Масштабирование данных"
   ]
  },
  {
   "cell_type": "code",
   "execution_count": 723,
   "id": "c5da92cb-ffc4-4a93-aef9-7a170107b845",
   "metadata": {
    "tags": []
   },
   "outputs": [],
   "source": [
    "df[['source_ip', 'destination_ip', 'source_port', 'destination_port', 'bytes', 'packages_count']] = StandardScaler().fit_transform(df[['source_ip', 'destination_ip', 'source_port', 'destination_port', 'bytes', 'packages_count']])"
   ]
  },
  {
   "cell_type": "markdown",
   "id": "36523072-5dbb-4074-b7d5-9d5347213a56",
   "metadata": {},
   "source": [
    "### Создание экземпляра класса DBSCAN и использование закодированных и нормализованных значений для кластеризации"
   ]
  },
  {
   "cell_type": "code",
   "execution_count": 724,
   "id": "eb326264-d8f8-40ef-882c-e56f03bd2163",
   "metadata": {
    "tags": []
   },
   "outputs": [],
   "source": [
    "X = df[['source_ip', 'destination_ip', 'source_port', 'destination_port', 'bytes', 'packages_count']]\n",
    "\n",
    "dbscan = DBSCAN(eps=0.5, min_samples=4);\n",
    "clusters = dbscan.fit_predict(X)"
   ]
  },
  {
   "cell_type": "markdown",
   "id": "1a37d995-071b-415c-8506-765fdcb38945",
   "metadata": {},
   "source": [
    "### Добавление меток кластеров в исходный датафрейм"
   ]
  },
  {
   "cell_type": "code",
   "execution_count": 725,
   "id": "a1f6785c-2844-48cc-a3e9-41185ee1d3ba",
   "metadata": {
    "tags": []
   },
   "outputs": [],
   "source": [
    "df['cluster'] = clusters"
   ]
  },
  {
   "cell_type": "markdown",
   "id": "d889563b-5917-4c5a-8490-a78752fec9bf",
   "metadata": {},
   "source": [
    "### Обнаружение аномалий"
   ]
  },
  {
   "cell_type": "code",
   "execution_count": 726,
   "id": "934a51be-1cd8-4b90-bacf-0924854e68f4",
   "metadata": {
    "tags": []
   },
   "outputs": [],
   "source": [
    "labels = dbscan.labels_\n",
    "df['is_anomaly'] = np.where(labels==-1, 1, 0)"
   ]
  },
  {
   "cell_type": "markdown",
   "id": "18f72890-548e-4dbe-8230-c81802700cb2",
   "metadata": {},
   "source": [
    "### Разбивка данных на обучающую и тестовую выборки"
   ]
  },
  {
   "cell_type": "code",
   "execution_count": 727,
   "id": "3db273e7-ccb3-48b9-8151-1d5beb3ce538",
   "metadata": {
    "tags": []
   },
   "outputs": [],
   "source": [
    "y = df['is_anomaly']\n",
    "X = df.drop('is_anomaly', axis=1)\n",
    "\n",
    "X_train, X_test, y_train, y_test = train_test_split(X, y, test_size=0.3, stratify=df['is_anomaly'])"
   ]
  },
  {
   "cell_type": "markdown",
   "id": "b991f4bd-9038-4658-8fdc-30e7833e5779",
   "metadata": {},
   "source": [
    "### Создание экземпляра модели градиентного бустинга с регуляризацией"
   ]
  },
  {
   "cell_type": "code",
   "execution_count": 728,
   "id": "fd1a32e4-4513-40c3-a693-d934c8009c04",
   "metadata": {
    "tags": []
   },
   "outputs": [
    {
     "data": {
      "text/html": [
       "<style>#sk-container-id-40 {color: black;background-color: white;}#sk-container-id-40 pre{padding: 0;}#sk-container-id-40 div.sk-toggleable {background-color: white;}#sk-container-id-40 label.sk-toggleable__label {cursor: pointer;display: block;width: 100%;margin-bottom: 0;padding: 0.3em;box-sizing: border-box;text-align: center;}#sk-container-id-40 label.sk-toggleable__label-arrow:before {content: \"▸\";float: left;margin-right: 0.25em;color: #696969;}#sk-container-id-40 label.sk-toggleable__label-arrow:hover:before {color: black;}#sk-container-id-40 div.sk-estimator:hover label.sk-toggleable__label-arrow:before {color: black;}#sk-container-id-40 div.sk-toggleable__content {max-height: 0;max-width: 0;overflow: hidden;text-align: left;background-color: #f0f8ff;}#sk-container-id-40 div.sk-toggleable__content pre {margin: 0.2em;color: black;border-radius: 0.25em;background-color: #f0f8ff;}#sk-container-id-40 input.sk-toggleable__control:checked~div.sk-toggleable__content {max-height: 200px;max-width: 100%;overflow: auto;}#sk-container-id-40 input.sk-toggleable__control:checked~label.sk-toggleable__label-arrow:before {content: \"▾\";}#sk-container-id-40 div.sk-estimator input.sk-toggleable__control:checked~label.sk-toggleable__label {background-color: #d4ebff;}#sk-container-id-40 div.sk-label input.sk-toggleable__control:checked~label.sk-toggleable__label {background-color: #d4ebff;}#sk-container-id-40 input.sk-hidden--visually {border: 0;clip: rect(1px 1px 1px 1px);clip: rect(1px, 1px, 1px, 1px);height: 1px;margin: -1px;overflow: hidden;padding: 0;position: absolute;width: 1px;}#sk-container-id-40 div.sk-estimator {font-family: monospace;background-color: #f0f8ff;border: 1px dotted black;border-radius: 0.25em;box-sizing: border-box;margin-bottom: 0.5em;}#sk-container-id-40 div.sk-estimator:hover {background-color: #d4ebff;}#sk-container-id-40 div.sk-parallel-item::after {content: \"\";width: 100%;border-bottom: 1px solid gray;flex-grow: 1;}#sk-container-id-40 div.sk-label:hover label.sk-toggleable__label {background-color: #d4ebff;}#sk-container-id-40 div.sk-serial::before {content: \"\";position: absolute;border-left: 1px solid gray;box-sizing: border-box;top: 0;bottom: 0;left: 50%;z-index: 0;}#sk-container-id-40 div.sk-serial {display: flex;flex-direction: column;align-items: center;background-color: white;padding-right: 0.2em;padding-left: 0.2em;position: relative;}#sk-container-id-40 div.sk-item {position: relative;z-index: 1;}#sk-container-id-40 div.sk-parallel {display: flex;align-items: stretch;justify-content: center;background-color: white;position: relative;}#sk-container-id-40 div.sk-item::before, #sk-container-id-40 div.sk-parallel-item::before {content: \"\";position: absolute;border-left: 1px solid gray;box-sizing: border-box;top: 0;bottom: 0;left: 50%;z-index: -1;}#sk-container-id-40 div.sk-parallel-item {display: flex;flex-direction: column;z-index: 1;position: relative;background-color: white;}#sk-container-id-40 div.sk-parallel-item:first-child::after {align-self: flex-end;width: 50%;}#sk-container-id-40 div.sk-parallel-item:last-child::after {align-self: flex-start;width: 50%;}#sk-container-id-40 div.sk-parallel-item:only-child::after {width: 0;}#sk-container-id-40 div.sk-dashed-wrapped {border: 1px dashed gray;margin: 0 0.4em 0.5em 0.4em;box-sizing: border-box;padding-bottom: 0.4em;background-color: white;}#sk-container-id-40 div.sk-label label {font-family: monospace;font-weight: bold;display: inline-block;line-height: 1.2em;}#sk-container-id-40 div.sk-label-container {text-align: center;}#sk-container-id-40 div.sk-container {/* jupyter's `normalize.less` sets `[hidden] { display: none; }` but bootstrap.min.css set `[hidden] { display: none !important; }` so we also need the `!important` here to be able to override the default hidden behavior on the sphinx rendered scikit-learn.org. See: https://github.com/scikit-learn/scikit-learn/issues/21755 */display: inline-block !important;position: relative;}#sk-container-id-40 div.sk-text-repr-fallback {display: none;}</style><div id=\"sk-container-id-40\" class=\"sk-top-container\"><div class=\"sk-text-repr-fallback\"><pre>GradientBoostingClassifier(max_depth=5, max_features=&#x27;sqrt&#x27;, min_samples_leaf=5,\n",
       "                           min_samples_split=10, n_estimators=102,\n",
       "                           random_state=42, subsample=0.9)</pre><b>In a Jupyter environment, please rerun this cell to show the HTML representation or trust the notebook. <br />On GitHub, the HTML representation is unable to render, please try loading this page with nbviewer.org.</b></div><div class=\"sk-container\" hidden><div class=\"sk-item\"><div class=\"sk-estimator sk-toggleable\"><input class=\"sk-toggleable__control sk-hidden--visually\" id=\"sk-estimator-id-40\" type=\"checkbox\" checked><label for=\"sk-estimator-id-40\" class=\"sk-toggleable__label sk-toggleable__label-arrow\">GradientBoostingClassifier</label><div class=\"sk-toggleable__content\"><pre>GradientBoostingClassifier(max_depth=5, max_features=&#x27;sqrt&#x27;, min_samples_leaf=5,\n",
       "                           min_samples_split=10, n_estimators=102,\n",
       "                           random_state=42, subsample=0.9)</pre></div></div></div></div></div>"
      ],
      "text/plain": [
       "GradientBoostingClassifier(max_depth=5, max_features='sqrt', min_samples_leaf=5,\n",
       "                           min_samples_split=10, n_estimators=102,\n",
       "                           random_state=42, subsample=0.9)"
      ]
     },
     "execution_count": 728,
     "metadata": {},
     "output_type": "execute_result"
    }
   ],
   "source": [
    "gb = GradientBoostingClassifier(n_estimators=102, max_depth=5, subsample=0.9, random_state=42, min_samples_split=10, min_samples_leaf=5, max_features='sqrt')\n",
    "\n",
    "gb.fit(X_train, y_train)"
   ]
  },
  {
   "cell_type": "markdown",
   "id": "f798779a-dec6-47f6-b0e9-9c297227d96c",
   "metadata": {},
   "source": [
    "### Получение прогноза для тестовых данных и вычисление метрик производительности"
   ]
  },
  {
   "cell_type": "code",
   "execution_count": 729,
   "id": "c32f2283-8c90-4d11-9a38-3ae69e7550b0",
   "metadata": {
    "tags": []
   },
   "outputs": [],
   "source": [
    "y_pred = gb.predict(X_test)\n",
    "accuracy = accuracy_score(y_test, y_pred)\n",
    "precision = precision_score(y_test, y_pred)\n",
    "recall = recall_score(y_test, y_pred)\n",
    "f1 = f1_score(y_test, y_pred)"
   ]
  },
  {
   "cell_type": "markdown",
   "id": "6025958a-8128-4c69-a229-b81ae940733e",
   "metadata": {},
   "source": [
    "### Вывод значений метрик"
   ]
  },
  {
   "cell_type": "code",
   "execution_count": 730,
   "id": "8b315819-7d66-4bb2-b065-3fce204c9997",
   "metadata": {
    "tags": []
   },
   "outputs": [
    {
     "name": "stdout",
     "output_type": "stream",
     "text": [
      "Accuracy: 0.9997731568998109\n",
      "Precision: 0.9661016949152542\n",
      "Recall: 0.9827586206896551\n",
      "F1 Score: 0.9743589743589743\n"
     ]
    }
   ],
   "source": [
    "print('Accuracy:', accuracy)\n",
    "print('Precision:', precision)\n",
    "print('Recall:', recall)\n",
    "print('F1 Score:', f1)"
   ]
  },
  {
   "cell_type": "markdown",
   "id": "5e16fa15",
   "metadata": {},
   "source": [
    "### Вывод confusion matrix"
   ]
  },
  {
   "cell_type": "code",
   "execution_count": 731,
   "id": "fdda6d8b",
   "metadata": {},
   "outputs": [
    {
     "data": {
      "text/plain": [
       "(13165, 2, 1, 57)"
      ]
     },
     "execution_count": 731,
     "metadata": {},
     "output_type": "execute_result"
    }
   ],
   "source": [
    "tn, fp, fn, tp = confusion_matrix(y_test, y_pred).ravel()\n",
    "tn, fp, fn, tp"
   ]
  },
  {
   "cell_type": "code",
   "execution_count": 732,
   "id": "5dc42c44",
   "metadata": {},
   "outputs": [
    {
     "data": {
      "text/plain": [
       "array([[13165,     2],\n",
       "       [    1,    57]])"
      ]
     },
     "execution_count": 732,
     "metadata": {},
     "output_type": "execute_result"
    }
   ],
   "source": [
    "confusion_matrix(y_test, y_pred, labels=[0, 1])"
   ]
  },
  {
   "cell_type": "code",
   "execution_count": 733,
   "id": "c1f34b3a",
   "metadata": {},
   "outputs": [
    {
     "data": {
      "text/plain": [
       "<sklearn.metrics._plot.confusion_matrix.ConfusionMatrixDisplay at 0x7f5cb65f83d0>"
      ]
     },
     "execution_count": 733,
     "metadata": {},
     "output_type": "execute_result"
    },
    {
     "data": {
      "image/png": "[encoded data removed]",
      "text/plain": [
       "<Figure size 640x480 with 2 Axes>"
      ]
     },
     "metadata": {},
     "output_type": "display_data"
    }
   ],
   "source": [
    "cm1 = confusion_matrix(y_test, y_pred, labels = gb.classes_)\n",
    "\n",
    "disp = ConfusionMatrixDisplay(confusion_matrix=cm1, display_labels=['0', '1'])\n",
    "disp.plot()"
   ]
  },
  {
   "cell_type": "markdown",
   "id": "68d25df5-1a9b-4a02-b635-7fda3699265d",
   "metadata": {},
   "source": [
    "### Группировка точек по кластерам и вывод результатов на графике"
   ]
  },
  {
   "cell_type": "code",
   "execution_count": 734,
   "id": "d156500e-a7fe-4236-8a31-5b62f8546329",
   "metadata": {
    "tags": []
   },
   "outputs": [
    {
     "data": {
      "image/png": "[encoded data removed]",
      "text/plain": [
       "<Figure size 640x480 with 1 Axes>"
      ]
     },
     "metadata": {},
     "output_type": "display_data"
    }
   ],
   "source": [
    "fig, ax = plt.subplots()\n",
    "\n",
    "for i in set(clusters):\n",
    "    mask = (clusters == i)\n",
    "    ax.scatter(X[mask]['bytes'], X[mask]['packages_count'], label=i)\n",
    "\n",
    "ax.set_xlabel('Bytes')\n",
    "ax.set_ylabel('Packages Count')\n",
    "ax.legend(title='Cluster')\n",
    "plt.show()"
   ]
  },
  {
   "cell_type": "code",
   "execution_count": null,
   "id": "b8de59ac-fdd0-4aa5-8f4d-e9bd012c5b21",
   "metadata": {},
   "outputs": [],
   "source": []
  }
 ],
 "metadata": {
  "kernelspec": {
   "display_name": "Python 3 (ipykernel)",
   "language": "python",
   "name": "python3"
  },
  "language_info": {
   "codemirror_mode": {
    "name": "ipython",
    "version": 3
   },
   "file_extension": ".py",
   "mimetype": "text/x-python",
   "name": "python",
   "nbconvert_exporter": "python",
   "pygments_lexer": "ipython3",
   "version": "3.10.6"
  }
 },
 "nbformat": 4,
 "nbformat_minor": 5
}
